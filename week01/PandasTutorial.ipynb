{
 "cells": [
  {
   "cell_type": "markdown",
   "metadata": {
    "tags": []
   },
   "source": [
    "# Python Fundamentals: Introduction to Pandas\n",
    "\n",
    "* * * \n",
    "\n",
    "<div class=\"alert alert-success\">  \n",
    "    \n",
    "### Learning Objectives \n",
    "    \n",
    "* Load .csv files into a Pandas `DataFrame`.\n",
    "* Understand that Pandas can be used for exploratory analysis.\n",
    "* Learn how to select columns and rows in a Pandas `DataFrame`.\n",
    "</div>\n",
    "\n",
    "\n",
    "### Icons Used in This Notebook\n",
    "🔔 **Question**: A quick question to help you understand what's going on.<br>\n",
    "🥊 **Challenge**: Interactive exercise. We'll work through these in the workshop!<br>\n",
    "💡 **Tip**: How to do something a bit more efficiently or effectively.<br>\n",
    "⚠️ **Warning:** Heads-up about tricky stuff or common mistakes.<br>\n",
    "🎬 **Demo**: Showing off something more advanced – so you know what Python can be used for!<br>\n",
    "\n",
    "### Sections\n",
    "1. [Data Frames: Spreadsheets in Python](#df)\n",
    "2. [Selecting Columns](#columns)\n",
    "3. [Selecting Rows](#rows)\n",
    "4. [Demo: Grouping and Plotting Data Frames](#group)"
   ]
  },
  {
   "cell_type": "markdown",
   "metadata": {},
   "source": [
    "<a id='df'></a>\n",
    "\n",
    "# Data Frames: Spreadsheets in Python\n",
    "\n",
    "**Tabular data** is everywhere. Think of an Excel sheet: each column corresponds to a different feature of each datapoint, while rows correspond to different samples.\n",
    "\n",
    "In scientific programming, tabular data is often called a **data frame**. In Python, the `pandas` package contains an object called `DataFrame` that implements this data structure."
   ]
  },
  {
   "cell_type": "markdown",
   "metadata": {
    "tags": []
   },
   "source": [
    "## Importing Packages\n",
    "\n",
    "A **package** is a collection of code that someone else wrote and put in a sharable format. Usually it's designed to add specific functionalities to Python. The package we will use in this notebook is called Pandas.\n",
    "\n",
    "Before we can use a package like Pandas, we have to **import** it into the current session.\n",
    "Importing is done with the `import` keyword. We simply run `import [PACKAGE_NAME]`, and everything inside the package becomes available to use.\n",
    "\n",
    "For many packages, like `pandas`, we use an **alias**, or nickname, when importing them. This is just done to save some typing when we refer to the package in our code.\n",
    "\n",
    "Let's import the `pandas` module, and add the alias `pd`."
   ]
  },
  {
   "cell_type": "code",
   "execution_count": 2,
   "metadata": {},
   "outputs": [],
   "source": [
    "import pandas as pd"
   ]
  },
  {
   "cell_type": "markdown",
   "metadata": {},
   "source": [
    "## 🥊 Challenge 1: From Dictionary to Data Frame\n",
    "\n",
    "You can easily build a data frame from a dictionary. However, the following code gives an error. Why does it have an error? \n",
    "\n",
    "💡 **Tip:** Google the line at the bottom of the error message if you need help!"
   ]
  },
  {
   "cell_type": "code",
   "execution_count": 3,
   "metadata": {},
   "outputs": [
    {
     "data": {
      "text/html": [
       "<div>\n",
       "<style scoped>\n",
       "    .dataframe tbody tr th:only-of-type {\n",
       "        vertical-align: middle;\n",
       "    }\n",
       "\n",
       "    .dataframe tbody tr th {\n",
       "        vertical-align: top;\n",
       "    }\n",
       "\n",
       "    .dataframe thead th {\n",
       "        text-align: right;\n",
       "    }\n",
       "</style>\n",
       "<table border=\"1\" class=\"dataframe\">\n",
       "  <thead>\n",
       "    <tr style=\"text-align: right;\">\n",
       "      <th></th>\n",
       "      <th>title</th>\n",
       "      <th>score</th>\n",
       "      <th>num_comments</th>\n",
       "    </tr>\n",
       "  </thead>\n",
       "  <tbody>\n",
       "    <tr>\n",
       "      <th>0</th>\n",
       "      <td>AITA for eating a random lunch in the communal...</td>\n",
       "      <td>242</td>\n",
       "      <td>52</td>\n",
       "    </tr>\n",
       "    <tr>\n",
       "      <th>1</th>\n",
       "      <td>AITA for leaving just a little bit of OJ left ...</td>\n",
       "      <td>921</td>\n",
       "      <td>109</td>\n",
       "    </tr>\n",
       "    <tr>\n",
       "      <th>2</th>\n",
       "      <td>AITA for not wanting to pay for my friend's meal?</td>\n",
       "      <td>492</td>\n",
       "      <td>42</td>\n",
       "    </tr>\n",
       "  </tbody>\n",
       "</table>\n",
       "</div>"
      ],
      "text/plain": [
       "                                               title  score  num_comments\n",
       "0  AITA for eating a random lunch in the communal...    242            52\n",
       "1  AITA for leaving just a little bit of OJ left ...    921           109\n",
       "2  AITA for not wanting to pay for my friend's meal?    492            42"
      ]
     },
     "execution_count": 3,
     "metadata": {},
     "output_type": "execute_result"
    }
   ],
   "source": [
    "titles = ['AITA for eating a random lunch in the communal fridge?',\n",
    "          'AITA for leaving just a little bit of OJ left in the jug?',\n",
    "          \"AITA for not wanting to pay for my friend's meal?\"]\n",
    "scores = [242, 921, 492]\n",
    "num_comments = [52, 109, 42]\n",
    "\n",
    "# Creating a dict from lists\n",
    "aita_dict = {'title': titles,\n",
    "             'score': scores,\n",
    "             'num_comments': num_comments}\n",
    "\n",
    "pd.DataFrame(aita_dict)"
   ]
  },
  {
   "cell_type": "markdown",
   "metadata": {},
   "source": [
    "## Reading CSV Files"
   ]
  },
  {
   "cell_type": "markdown",
   "metadata": {},
   "source": [
    "In the cell below, we use the `read_csv()` method, which takes a string as its main argument. This string consists of the file path pointing to the file.\n",
    "\n",
    "* `../` means \"go up one level from where this notebook is\" -- which is the \"lessons\" folder.\n",
    "* `data/` means 'go into a folder called \"data\".\n",
    "* `aita_top_submissions.csv` is the file name we are accessing within that \"data\" folder."
   ]
  },
  {
   "cell_type": "code",
   "execution_count": 4,
   "metadata": {},
   "outputs": [],
   "source": [
    "df = pd.read_csv('data/aita_top_submissions.csv')"
   ]
  },
  {
   "cell_type": "markdown",
   "metadata": {},
   "source": [
    "The `.head()` method will show the first five rows of a Data Frame by default. \n",
    "\n",
    "💡 **Tip**: Put an integer in between the parentheses to specify a different number of rows. "
   ]
  },
  {
   "cell_type": "code",
   "execution_count": 5,
   "metadata": {},
   "outputs": [
    {
     "data": {
      "text/html": [
       "<div>\n",
       "<style scoped>\n",
       "    .dataframe tbody tr th:only-of-type {\n",
       "        vertical-align: middle;\n",
       "    }\n",
       "\n",
       "    .dataframe tbody tr th {\n",
       "        vertical-align: top;\n",
       "    }\n",
       "\n",
       "    .dataframe thead th {\n",
       "        text-align: right;\n",
       "    }\n",
       "</style>\n",
       "<table border=\"1\" class=\"dataframe\">\n",
       "  <thead>\n",
       "    <tr style=\"text-align: right;\">\n",
       "      <th></th>\n",
       "      <th>idstr</th>\n",
       "      <th>created</th>\n",
       "      <th>author</th>\n",
       "      <th>title</th>\n",
       "      <th>selftext</th>\n",
       "      <th>score</th>\n",
       "      <th>num_comments</th>\n",
       "      <th>nsfw</th>\n",
       "      <th>flair_text</th>\n",
       "    </tr>\n",
       "  </thead>\n",
       "  <tbody>\n",
       "    <tr>\n",
       "      <th>0</th>\n",
       "      <td>t3_72kg2a</td>\n",
       "      <td>2017-09-26 13:48:09</td>\n",
       "      <td>Ritsku</td>\n",
       "      <td>AITA for breaking up with my girlfriend becaus...</td>\n",
       "      <td>My girlfriend recently went to the beach with ...</td>\n",
       "      <td>679.0</td>\n",
       "      <td>434.0</td>\n",
       "      <td>0.0</td>\n",
       "      <td>no a--holes here</td>\n",
       "    </tr>\n",
       "    <tr>\n",
       "      <th>1</th>\n",
       "      <td>t3_94kvhi</td>\n",
       "      <td>2018-08-04 17:34:55</td>\n",
       "      <td>hhhhhhffff678</td>\n",
       "      <td>AITA for banning smoking in my house and telli...</td>\n",
       "      <td>My parents smoke like chimneys. I used to as w...</td>\n",
       "      <td>832.0</td>\n",
       "      <td>357.0</td>\n",
       "      <td>0.0</td>\n",
       "      <td>asshole</td>\n",
       "    </tr>\n",
       "    <tr>\n",
       "      <th>2</th>\n",
       "      <td>t3_951az2</td>\n",
       "      <td>2018-08-06 13:31:39</td>\n",
       "      <td>creepatthepool</td>\n",
       "      <td>AITA? Creep wears skimpy bathing suit to pool</td>\n",
       "      <td>Hi guys. Throwaway for obv reasons.\\n\\nI'm a f...</td>\n",
       "      <td>23.0</td>\n",
       "      <td>335.0</td>\n",
       "      <td>0.0</td>\n",
       "      <td>Shitpost</td>\n",
       "    </tr>\n",
       "    <tr>\n",
       "      <th>3</th>\n",
       "      <td>t3_978ioa</td>\n",
       "      <td>2018-08-14 13:50:41</td>\n",
       "      <td>Pauly104</td>\n",
       "      <td>AITA for eating steak in front of my vegan GF?</td>\n",
       "      <td>Yesterday night, me and my GF decided to go ou...</td>\n",
       "      <td>1011.0</td>\n",
       "      <td>380.0</td>\n",
       "      <td>0.0</td>\n",
       "      <td>not the a-hole</td>\n",
       "    </tr>\n",
       "    <tr>\n",
       "      <th>4</th>\n",
       "      <td>t3_99yo3c</td>\n",
       "      <td>2018-08-24 16:03:40</td>\n",
       "      <td>ThatSpencerGuy</td>\n",
       "      <td>AITA for not wanting to cook my mother-in-law ...</td>\n",
       "      <td>My wife and I are vegetarians, much to my in-l...</td>\n",
       "      <td>349.0</td>\n",
       "      <td>360.0</td>\n",
       "      <td>0.0</td>\n",
       "      <td>not the a-hole</td>\n",
       "    </tr>\n",
       "  </tbody>\n",
       "</table>\n",
       "</div>"
      ],
      "text/plain": [
       "       idstr              created          author  \\\n",
       "0  t3_72kg2a  2017-09-26 13:48:09          Ritsku   \n",
       "1  t3_94kvhi  2018-08-04 17:34:55   hhhhhhffff678   \n",
       "2  t3_951az2  2018-08-06 13:31:39  creepatthepool   \n",
       "3  t3_978ioa  2018-08-14 13:50:41        Pauly104   \n",
       "4  t3_99yo3c  2018-08-24 16:03:40  ThatSpencerGuy   \n",
       "\n",
       "                                               title  \\\n",
       "0  AITA for breaking up with my girlfriend becaus...   \n",
       "1  AITA for banning smoking in my house and telli...   \n",
       "2      AITA? Creep wears skimpy bathing suit to pool   \n",
       "3     AITA for eating steak in front of my vegan GF?   \n",
       "4  AITA for not wanting to cook my mother-in-law ...   \n",
       "\n",
       "                                            selftext   score  num_comments  \\\n",
       "0  My girlfriend recently went to the beach with ...   679.0         434.0   \n",
       "1  My parents smoke like chimneys. I used to as w...   832.0         357.0   \n",
       "2  Hi guys. Throwaway for obv reasons.\\n\\nI'm a f...    23.0         335.0   \n",
       "3  Yesterday night, me and my GF decided to go ou...  1011.0         380.0   \n",
       "4  My wife and I are vegetarians, much to my in-l...   349.0         360.0   \n",
       "\n",
       "   nsfw        flair_text  \n",
       "0   0.0  no a--holes here  \n",
       "1   0.0           asshole  \n",
       "2   0.0          Shitpost  \n",
       "3   0.0    not the a-hole  \n",
       "4   0.0    not the a-hole  "
      ]
     },
     "execution_count": 5,
     "metadata": {},
     "output_type": "execute_result"
    }
   ],
   "source": [
    "df.head()"
   ]
  },
  {
   "cell_type": "markdown",
   "metadata": {},
   "source": [
    "### More on .csv Files\n",
    "As data scientists, we'll often be working with these **Comma Separated Values (.csv)** files. \n",
    "\n",
    "Comma separated values files are common because they are relatively small and look good in spreadsheet software. A comma separated values file is just a text file that contains data but that has commas (or other separators) to indicate column breaks.\n",
    "\n",
    "As you see, `pandas` comes with a function [`read_csv()`](https://pandas.pydata.org/docs/reference/api/pandas.read_csv.html)\n",
    "that makes it really easy to import .csv files.\n",
    "\n",
    "Let's have a look at our .csv file in our browser!"
   ]
  },
  {
   "cell_type": "markdown",
   "metadata": {
    "tags": []
   },
   "source": [
    "<a id='columns'></a>\n",
    "\n",
    "# Selecting Columns\n",
    "Now that we have our `DataFrame`, we can select a single column by selecting the name of that column. This uses bracket notation (like we do when accessing lists).\n",
    "\n",
    "Check it out:"
   ]
  },
  {
   "cell_type": "code",
   "execution_count": 6,
   "metadata": {},
   "outputs": [
    {
     "data": {
      "text/plain": [
       "0                      Ritsku\n",
       "1               hhhhhhffff678\n",
       "2              creepatthepool\n",
       "3                    Pauly104\n",
       "4              ThatSpencerGuy\n",
       "                 ...         \n",
       "19995       ReluctantCosigner\n",
       "19996    TiredNeedleandThread\n",
       "19997       Ineedadvicepleaze\n",
       "19998        Throwaway4773782\n",
       "19999    Due-Understanding536\n",
       "Name: author, Length: 20000, dtype: object"
      ]
     },
     "execution_count": 6,
     "metadata": {},
     "output_type": "execute_result"
    }
   ],
   "source": [
    "df['author']"
   ]
  },
  {
   "cell_type": "markdown",
   "metadata": {},
   "source": [
    "The data type of this column is a `Series`. It's like a list. You can index a `Series` object just like you can with a list!"
   ]
  },
  {
   "cell_type": "code",
   "execution_count": 7,
   "metadata": {},
   "outputs": [
    {
     "data": {
      "text/plain": [
       "'Ritsku'"
      ]
     },
     "execution_count": 7,
     "metadata": {},
     "output_type": "execute_result"
    }
   ],
   "source": [
    "aita_author = df['author']\n",
    "aita_author[0]"
   ]
  },
  {
   "cell_type": "markdown",
   "metadata": {},
   "source": [
    "## Using Methods on Columns\n",
    "\n",
    "`DataFrame` objects come with their own methods, many of which operate on a single column of the DataFrame. \n",
    "\n",
    "For example, we can identify the number of unique values in each column by using the `nunique()` method:"
   ]
  },
  {
   "cell_type": "code",
   "execution_count": 8,
   "metadata": {},
   "outputs": [
    {
     "data": {
      "text/plain": [
       "19404"
      ]
     },
     "execution_count": 8,
     "metadata": {},
     "output_type": "execute_result"
    }
   ],
   "source": [
    "df['author'].nunique()"
   ]
  },
  {
   "cell_type": "markdown",
   "metadata": {},
   "source": [
    "Usually, a package provides **documentation** that explains all of its functionalities. Let's have a look at the documentation for a method called `value_counts()` [online](https://pandas.pydata.org/pandas-docs/stable/reference/api/pandas.Series.value_counts.html). \n",
    "\n",
    "🔔 **Question**: What does `value_counts()` do in the code below?"
   ]
  },
  {
   "cell_type": "code",
   "execution_count": 9,
   "metadata": {
    "tags": []
   },
   "outputs": [
    {
     "data": {
      "text/plain": [
       "flair_text\n",
       "Not the A-hole                11418\n",
       "Asshole                        3667\n",
       "Everyone Sucks                  717\n",
       "No A-holes here                 628\n",
       "UPDATE                          195\n",
       "Not enough info                 161\n",
       "Update                           16\n",
       "META                             16\n",
       "Open Forum                       16\n",
       "not the a-hole                    8\n",
       "asshole                           4\n",
       "everyone sucks                    3\n",
       "Probably Fake                     3\n",
       "Fake Story                        2\n",
       "Fake                              2\n",
       "NEWS                              1\n",
       "IMPORTANT                         1\n",
       "Pobably Fake                      1\n",
       "OP Banned - Rule 3                1\n",
       "Judgment denied.                  1\n",
       "Eat Stew Homie                    1\n",
       "I crave validation!               1\n",
       "Quality Shitpost                  1\n",
       "no a--holes here                  1\n",
       "Probably a Fake Story             1\n",
       "Happy New Year!                   1\n",
       "Fake story/Everyone Sucks         1\n",
       "probably fake                     1\n",
       "quality shitpost                  1\n",
       "META Asshole                      1\n",
       "Probably fake                     1\n",
       "weeabo h8r                        1\n",
       "Record Setting Asshole            1\n",
       "Asshole (maybe justified?)        1\n",
       "justified asshole                 1\n",
       "asshole (Kinda)                   1\n",
       "Shitpost                          1\n",
       "Talk ENDED                        1\n",
       "Name: count, dtype: int64"
      ]
     },
     "execution_count": 9,
     "metadata": {},
     "output_type": "execute_result"
    }
   ],
   "source": [
    "df['flair_text'].value_counts()"
   ]
  },
  {
   "cell_type": "markdown",
   "metadata": {},
   "source": [
    "## 🥊  <span> Challenge 2: Putting Methods in Order</span>\n",
    "\n",
    "In the following code we want to to find the top-3 most frequently occurring flairs in our data. Put the following code fragments in the right order to get this information!"
   ]
  },
  {
   "cell_type": "code",
   "execution_count": 11,
   "metadata": {},
   "outputs": [
    {
     "data": {
      "text/plain": [
       "0        no a--holes here\n",
       "1                 asshole\n",
       "2                Shitpost\n",
       "3          not the a-hole\n",
       "4          not the a-hole\n",
       "               ...       \n",
       "19995                 NaN\n",
       "19996                 NaN\n",
       "19997                 NaN\n",
       "19998                 NaN\n",
       "19999                 NaN\n",
       "Name: flair_text, Length: 20000, dtype: object"
      ]
     },
     "execution_count": 11,
     "metadata": {},
     "output_type": "execute_result"
    }
   ],
   "source": [
    "df.head(3)\n",
    "df.value_counts()\n",
    "df['flair_text']"
   ]
  },
  {
   "cell_type": "markdown",
   "metadata": {},
   "source": [
    "## Attributes \n",
    "\n",
    "Packages like Pandas don't only come with methods, but also with so-called **attributes**.\n",
    "\n",
    "Attributes are like variables: they give you more information about the data that you have. Methods are like functions: they allow you to do something with data.\n",
    "\n",
    "For instance, we can easily check the column names of our data frame using the `columns` **attribute**."
   ]
  },
  {
   "cell_type": "code",
   "execution_count": 12,
   "metadata": {},
   "outputs": [
    {
     "data": {
      "text/plain": [
       "Index(['idstr', 'created', 'author', 'title', 'selftext', 'score',\n",
       "       'num_comments', 'nsfw', 'flair_text'],\n",
       "      dtype='object')"
      ]
     },
     "execution_count": 12,
     "metadata": {},
     "output_type": "execute_result"
    }
   ],
   "source": [
    "df.columns"
   ]
  },
  {
   "cell_type": "markdown",
   "metadata": {},
   "source": [
    "🔔 **Question**: Here's another popular attribute: `shape`. What do you think it does?"
   ]
  },
  {
   "cell_type": "code",
   "execution_count": 13,
   "metadata": {},
   "outputs": [
    {
     "data": {
      "text/plain": [
       "(20000, 9)"
      ]
     },
     "execution_count": 13,
     "metadata": {},
     "output_type": "execute_result"
    }
   ],
   "source": [
    "df.shape"
   ]
  },
  {
   "cell_type": "markdown",
   "metadata": {},
   "source": [
    "## Jupyter Autocomplete\n",
    "\n",
    "Jupyter Notebooks allow for tab completion, just like many text editors. If you begin typing the name of something (such as a variable) that already exists, you can simply hit **Tab** and Jupyter will autocomplete it for you. If there is more than one possibility, it will show them to you and you can choose from there. "
   ]
  },
  {
   "cell_type": "markdown",
   "metadata": {},
   "source": [
    "🔔 **Question:** Below we are selecting a column in our `DataFrame`. See what happens when you hit `TAB`! What are you seeing?"
   ]
  },
  {
   "cell_type": "code",
   "execution_count": 15,
   "metadata": {},
   "outputs": [
    {
     "name": "stderr",
     "output_type": "stream",
     "text": [
      "/var/folders/0l/p7x7d7755vq4wc8qty73kcy40000gn/T/ipykernel_63448/3376546217.py:3: FutureWarning: DataFrame.backfill/Series.backfill is deprecated. Use DataFrame.bfill/Series.bfill instead\n",
      "  df['flair_text'].backfill()\n"
     ]
    },
    {
     "data": {
      "text/plain": [
       "0        no a--holes here\n",
       "1                 asshole\n",
       "2                Shitpost\n",
       "3          not the a-hole\n",
       "4          not the a-hole\n",
       "               ...       \n",
       "19995                 NaN\n",
       "19996                 NaN\n",
       "19997                 NaN\n",
       "19998                 NaN\n",
       "19999                 NaN\n",
       "Name: flair_text, Length: 20000, dtype: object"
      ]
     },
     "execution_count": 15,
     "metadata": {},
     "output_type": "execute_result"
    }
   ],
   "source": [
    "# YOUR CODE HERE\n",
    "\n",
    "df['flair_text'].backfill()"
   ]
  },
  {
   "cell_type": "markdown",
   "metadata": {},
   "source": [
    "<a id='rows'></a>\n",
    "\n",
    "# Selecting Rows\n",
    "\n",
    "What if we wanted to get some rows in our dataset based on some condition? For example, what if we just wanted a select only the rows for which the flair is \"Not the A-hole\"? Or only posts that have a certain number of comments?\n",
    "\n",
    "We can use so-called **value comparison operators** for this. For instance, to get only the rows that have a specific flair, we can use `==`."
   ]
  },
  {
   "cell_type": "code",
   "execution_count": 16,
   "metadata": {},
   "outputs": [
    {
     "data": {
      "text/plain": [
       "0        False\n",
       "1        False\n",
       "2        False\n",
       "3        False\n",
       "4        False\n",
       "         ...  \n",
       "19995    False\n",
       "19996    False\n",
       "19997    False\n",
       "19998    False\n",
       "19999    False\n",
       "Name: flair_text, Length: 20000, dtype: bool"
      ]
     },
     "execution_count": 16,
     "metadata": {},
     "output_type": "execute_result"
    }
   ],
   "source": [
    "df['flair_text'] == 'Not the A-hole'"
   ]
  },
  {
   "cell_type": "markdown",
   "metadata": {},
   "source": [
    "💡 **Tip**: Fancy terminology alert: the above Series is called a **Boolean mask**. It's like a list of True/False labels that we can use to filter our Data Frame for a certain condition!\n",
    "\n",
    "Here, we create a subset of our Data Frame with the fancy Boolean mask we just created. "
   ]
  },
  {
   "cell_type": "code",
   "execution_count": 17,
   "metadata": {},
   "outputs": [
    {
     "data": {
      "text/html": [
       "<div>\n",
       "<style scoped>\n",
       "    .dataframe tbody tr th:only-of-type {\n",
       "        vertical-align: middle;\n",
       "    }\n",
       "\n",
       "    .dataframe tbody tr th {\n",
       "        vertical-align: top;\n",
       "    }\n",
       "\n",
       "    .dataframe thead th {\n",
       "        text-align: right;\n",
       "    }\n",
       "</style>\n",
       "<table border=\"1\" class=\"dataframe\">\n",
       "  <thead>\n",
       "    <tr style=\"text-align: right;\">\n",
       "      <th></th>\n",
       "      <th>idstr</th>\n",
       "      <th>created</th>\n",
       "      <th>author</th>\n",
       "      <th>title</th>\n",
       "      <th>selftext</th>\n",
       "      <th>score</th>\n",
       "      <th>num_comments</th>\n",
       "      <th>nsfw</th>\n",
       "      <th>flair_text</th>\n",
       "    </tr>\n",
       "  </thead>\n",
       "  <tbody>\n",
       "    <tr>\n",
       "      <th>19</th>\n",
       "      <td>t3_9o4i1z</td>\n",
       "      <td>2018-10-14 17:20:36</td>\n",
       "      <td>samfletchxo</td>\n",
       "      <td>AITA for asking my boyfriend’s parents to give...</td>\n",
       "      <td>My boyfriend and I recently bought our first h...</td>\n",
       "      <td>10133.0</td>\n",
       "      <td>1117.0</td>\n",
       "      <td>0.0</td>\n",
       "      <td>Not the A-hole</td>\n",
       "    </tr>\n",
       "    <tr>\n",
       "      <th>20</th>\n",
       "      <td>t3_9oczd2</td>\n",
       "      <td>2018-10-15 14:07:56</td>\n",
       "      <td>ICUMTARANTULAS</td>\n",
       "      <td>AITA for having sex with my fiancé?</td>\n",
       "      <td>So I live on a second floor of an apartment co...</td>\n",
       "      <td>9354.0</td>\n",
       "      <td>1014.0</td>\n",
       "      <td>0.0</td>\n",
       "      <td>Not the A-hole</td>\n",
       "    </tr>\n",
       "    <tr>\n",
       "      <th>21</th>\n",
       "      <td>t3_9p7m8t</td>\n",
       "      <td>2018-10-18 09:17:24</td>\n",
       "      <td>Maddisonjkk</td>\n",
       "      <td>AITA For yelling at my housemates girlfriend b...</td>\n",
       "      <td>After a big night out my housemate, his girlfr...</td>\n",
       "      <td>3854.0</td>\n",
       "      <td>653.0</td>\n",
       "      <td>0.0</td>\n",
       "      <td>Not the A-hole</td>\n",
       "    </tr>\n",
       "    <tr>\n",
       "      <th>23</th>\n",
       "      <td>t3_9py7hb</td>\n",
       "      <td>2018-10-20 22:00:07</td>\n",
       "      <td>trapped_underrice</td>\n",
       "      <td>AITA for eating after an old lady told me to s...</td>\n",
       "      <td>So every day on my way to the gym I eat a bag ...</td>\n",
       "      <td>4791.0</td>\n",
       "      <td>479.0</td>\n",
       "      <td>0.0</td>\n",
       "      <td>Not the A-hole</td>\n",
       "    </tr>\n",
       "    <tr>\n",
       "      <th>24</th>\n",
       "      <td>t3_9q9kea</td>\n",
       "      <td>2018-10-22 02:28:58</td>\n",
       "      <td>Lonetraveler87</td>\n",
       "      <td>AITA for getting annoyed at a couple for bring...</td>\n",
       "      <td>This couple decided to bring their son, I assu...</td>\n",
       "      <td>14210.0</td>\n",
       "      <td>522.0</td>\n",
       "      <td>0.0</td>\n",
       "      <td>Not the A-hole</td>\n",
       "    </tr>\n",
       "    <tr>\n",
       "      <th>...</th>\n",
       "      <td>...</td>\n",
       "      <td>...</td>\n",
       "      <td>...</td>\n",
       "      <td>...</td>\n",
       "      <td>...</td>\n",
       "      <td>...</td>\n",
       "      <td>...</td>\n",
       "      <td>...</td>\n",
       "      <td>...</td>\n",
       "    </tr>\n",
       "    <tr>\n",
       "      <th>19982</th>\n",
       "      <td>t3_rh2s75</td>\n",
       "      <td>2021-12-15 16:20:09</td>\n",
       "      <td>-stalker-aita</td>\n",
       "      <td>AITA for reporting a stalker?</td>\n",
       "      <td>Adding that my friend lives in a house that th...</td>\n",
       "      <td>4977.0</td>\n",
       "      <td>401.0</td>\n",
       "      <td>0.0</td>\n",
       "      <td>Not the A-hole</td>\n",
       "    </tr>\n",
       "    <tr>\n",
       "      <th>19985</th>\n",
       "      <td>t3_rh4h3r</td>\n",
       "      <td>2021-12-15 17:33:14</td>\n",
       "      <td>mural312</td>\n",
       "      <td>AITA for refusing to paint a new mural in our ...</td>\n",
       "      <td>When we first got married, I spent months pain...</td>\n",
       "      <td>6701.0</td>\n",
       "      <td>816.0</td>\n",
       "      <td>0.0</td>\n",
       "      <td>Not the A-hole</td>\n",
       "    </tr>\n",
       "    <tr>\n",
       "      <th>19987</th>\n",
       "      <td>t3_rh7b72</td>\n",
       "      <td>2021-12-15 19:34:38</td>\n",
       "      <td>rrraaaqq</td>\n",
       "      <td>AITA for having the girl my brother got pregna...</td>\n",
       "      <td>I 23f have a brother 18m who I love with all m...</td>\n",
       "      <td>7742.0</td>\n",
       "      <td>767.0</td>\n",
       "      <td>0.0</td>\n",
       "      <td>Not the A-hole</td>\n",
       "    </tr>\n",
       "    <tr>\n",
       "      <th>19988</th>\n",
       "      <td>t3_rh7cru</td>\n",
       "      <td>2021-12-15 19:36:37</td>\n",
       "      <td>ThrowRAwannaknow_</td>\n",
       "      <td>AITA for telling my son the truth about why my...</td>\n",
       "      <td>Her parents always looked down on me and I can...</td>\n",
       "      <td>20523.0</td>\n",
       "      <td>1577.0</td>\n",
       "      <td>0.0</td>\n",
       "      <td>Not the A-hole</td>\n",
       "    </tr>\n",
       "    <tr>\n",
       "      <th>19989</th>\n",
       "      <td>t3_rh8fw1</td>\n",
       "      <td>2021-12-15 20:24:59</td>\n",
       "      <td>CrossoverKing0925</td>\n",
       "      <td>AITA for refusing to buy my GF a 6 figure car</td>\n",
       "      <td>I (24M) am dating a woman (26F) who we'll refe...</td>\n",
       "      <td>3006.0</td>\n",
       "      <td>762.0</td>\n",
       "      <td>0.0</td>\n",
       "      <td>Not the A-hole</td>\n",
       "    </tr>\n",
       "  </tbody>\n",
       "</table>\n",
       "<p>11418 rows × 9 columns</p>\n",
       "</div>"
      ],
      "text/plain": [
       "           idstr              created             author  \\\n",
       "19     t3_9o4i1z  2018-10-14 17:20:36        samfletchxo   \n",
       "20     t3_9oczd2  2018-10-15 14:07:56     ICUMTARANTULAS   \n",
       "21     t3_9p7m8t  2018-10-18 09:17:24        Maddisonjkk   \n",
       "23     t3_9py7hb  2018-10-20 22:00:07  trapped_underrice   \n",
       "24     t3_9q9kea  2018-10-22 02:28:58     Lonetraveler87   \n",
       "...          ...                  ...                ...   \n",
       "19982  t3_rh2s75  2021-12-15 16:20:09      -stalker-aita   \n",
       "19985  t3_rh4h3r  2021-12-15 17:33:14           mural312   \n",
       "19987  t3_rh7b72  2021-12-15 19:34:38           rrraaaqq   \n",
       "19988  t3_rh7cru  2021-12-15 19:36:37  ThrowRAwannaknow_   \n",
       "19989  t3_rh8fw1  2021-12-15 20:24:59  CrossoverKing0925   \n",
       "\n",
       "                                                   title  \\\n",
       "19     AITA for asking my boyfriend’s parents to give...   \n",
       "20                   AITA for having sex with my fiancé?   \n",
       "21     AITA For yelling at my housemates girlfriend b...   \n",
       "23     AITA for eating after an old lady told me to s...   \n",
       "24     AITA for getting annoyed at a couple for bring...   \n",
       "...                                                  ...   \n",
       "19982                      AITA for reporting a stalker?   \n",
       "19985  AITA for refusing to paint a new mural in our ...   \n",
       "19987  AITA for having the girl my brother got pregna...   \n",
       "19988  AITA for telling my son the truth about why my...   \n",
       "19989      AITA for refusing to buy my GF a 6 figure car   \n",
       "\n",
       "                                                selftext    score  \\\n",
       "19     My boyfriend and I recently bought our first h...  10133.0   \n",
       "20     So I live on a second floor of an apartment co...   9354.0   \n",
       "21     After a big night out my housemate, his girlfr...   3854.0   \n",
       "23     So every day on my way to the gym I eat a bag ...   4791.0   \n",
       "24     This couple decided to bring their son, I assu...  14210.0   \n",
       "...                                                  ...      ...   \n",
       "19982  Adding that my friend lives in a house that th...   4977.0   \n",
       "19985  When we first got married, I spent months pain...   6701.0   \n",
       "19987  I 23f have a brother 18m who I love with all m...   7742.0   \n",
       "19988  Her parents always looked down on me and I can...  20523.0   \n",
       "19989  I (24M) am dating a woman (26F) who we'll refe...   3006.0   \n",
       "\n",
       "       num_comments  nsfw      flair_text  \n",
       "19           1117.0   0.0  Not the A-hole  \n",
       "20           1014.0   0.0  Not the A-hole  \n",
       "21            653.0   0.0  Not the A-hole  \n",
       "23            479.0   0.0  Not the A-hole  \n",
       "24            522.0   0.0  Not the A-hole  \n",
       "...             ...   ...             ...  \n",
       "19982         401.0   0.0  Not the A-hole  \n",
       "19985         816.0   0.0  Not the A-hole  \n",
       "19987         767.0   0.0  Not the A-hole  \n",
       "19988        1577.0   0.0  Not the A-hole  \n",
       "19989         762.0   0.0  Not the A-hole  \n",
       "\n",
       "[11418 rows x 9 columns]"
      ]
     },
     "execution_count": 17,
     "metadata": {},
     "output_type": "execute_result"
    }
   ],
   "source": [
    "# Getting only the data points with this flair\n",
    "df[df['flair_text'] == 'Not the A-hole']"
   ]
  },
  {
   "cell_type": "markdown",
   "metadata": {},
   "source": [
    "Note that the output of this operation is a **new data frame**! We can assign it to a new variable so we can work with this subsetted data frame. Let's do it again:"
   ]
  },
  {
   "cell_type": "code",
   "execution_count": 18,
   "metadata": {},
   "outputs": [
    {
     "data": {
      "text/html": [
       "<div>\n",
       "<style scoped>\n",
       "    .dataframe tbody tr th:only-of-type {\n",
       "        vertical-align: middle;\n",
       "    }\n",
       "\n",
       "    .dataframe tbody tr th {\n",
       "        vertical-align: top;\n",
       "    }\n",
       "\n",
       "    .dataframe thead th {\n",
       "        text-align: right;\n",
       "    }\n",
       "</style>\n",
       "<table border=\"1\" class=\"dataframe\">\n",
       "  <thead>\n",
       "    <tr style=\"text-align: right;\">\n",
       "      <th></th>\n",
       "      <th>idstr</th>\n",
       "      <th>created</th>\n",
       "      <th>author</th>\n",
       "      <th>title</th>\n",
       "      <th>selftext</th>\n",
       "      <th>score</th>\n",
       "      <th>num_comments</th>\n",
       "      <th>nsfw</th>\n",
       "      <th>flair_text</th>\n",
       "    </tr>\n",
       "  </thead>\n",
       "  <tbody>\n",
       "    <tr>\n",
       "      <th>19</th>\n",
       "      <td>t3_9o4i1z</td>\n",
       "      <td>2018-10-14 17:20:36</td>\n",
       "      <td>samfletchxo</td>\n",
       "      <td>AITA for asking my boyfriend’s parents to give...</td>\n",
       "      <td>My boyfriend and I recently bought our first h...</td>\n",
       "      <td>10133.0</td>\n",
       "      <td>1117.0</td>\n",
       "      <td>0.0</td>\n",
       "      <td>Not the A-hole</td>\n",
       "    </tr>\n",
       "    <tr>\n",
       "      <th>20</th>\n",
       "      <td>t3_9oczd2</td>\n",
       "      <td>2018-10-15 14:07:56</td>\n",
       "      <td>ICUMTARANTULAS</td>\n",
       "      <td>AITA for having sex with my fiancé?</td>\n",
       "      <td>So I live on a second floor of an apartment co...</td>\n",
       "      <td>9354.0</td>\n",
       "      <td>1014.0</td>\n",
       "      <td>0.0</td>\n",
       "      <td>Not the A-hole</td>\n",
       "    </tr>\n",
       "    <tr>\n",
       "      <th>21</th>\n",
       "      <td>t3_9p7m8t</td>\n",
       "      <td>2018-10-18 09:17:24</td>\n",
       "      <td>Maddisonjkk</td>\n",
       "      <td>AITA For yelling at my housemates girlfriend b...</td>\n",
       "      <td>After a big night out my housemate, his girlfr...</td>\n",
       "      <td>3854.0</td>\n",
       "      <td>653.0</td>\n",
       "      <td>0.0</td>\n",
       "      <td>Not the A-hole</td>\n",
       "    </tr>\n",
       "    <tr>\n",
       "      <th>23</th>\n",
       "      <td>t3_9py7hb</td>\n",
       "      <td>2018-10-20 22:00:07</td>\n",
       "      <td>trapped_underrice</td>\n",
       "      <td>AITA for eating after an old lady told me to s...</td>\n",
       "      <td>So every day on my way to the gym I eat a bag ...</td>\n",
       "      <td>4791.0</td>\n",
       "      <td>479.0</td>\n",
       "      <td>0.0</td>\n",
       "      <td>Not the A-hole</td>\n",
       "    </tr>\n",
       "    <tr>\n",
       "      <th>24</th>\n",
       "      <td>t3_9q9kea</td>\n",
       "      <td>2018-10-22 02:28:58</td>\n",
       "      <td>Lonetraveler87</td>\n",
       "      <td>AITA for getting annoyed at a couple for bring...</td>\n",
       "      <td>This couple decided to bring their son, I assu...</td>\n",
       "      <td>14210.0</td>\n",
       "      <td>522.0</td>\n",
       "      <td>0.0</td>\n",
       "      <td>Not the A-hole</td>\n",
       "    </tr>\n",
       "  </tbody>\n",
       "</table>\n",
       "</div>"
      ],
      "text/plain": [
       "        idstr              created             author  \\\n",
       "19  t3_9o4i1z  2018-10-14 17:20:36        samfletchxo   \n",
       "20  t3_9oczd2  2018-10-15 14:07:56     ICUMTARANTULAS   \n",
       "21  t3_9p7m8t  2018-10-18 09:17:24        Maddisonjkk   \n",
       "23  t3_9py7hb  2018-10-20 22:00:07  trapped_underrice   \n",
       "24  t3_9q9kea  2018-10-22 02:28:58     Lonetraveler87   \n",
       "\n",
       "                                                title  \\\n",
       "19  AITA for asking my boyfriend’s parents to give...   \n",
       "20                AITA for having sex with my fiancé?   \n",
       "21  AITA For yelling at my housemates girlfriend b...   \n",
       "23  AITA for eating after an old lady told me to s...   \n",
       "24  AITA for getting annoyed at a couple for bring...   \n",
       "\n",
       "                                             selftext    score  num_comments  \\\n",
       "19  My boyfriend and I recently bought our first h...  10133.0        1117.0   \n",
       "20  So I live on a second floor of an apartment co...   9354.0        1014.0   \n",
       "21  After a big night out my housemate, his girlfr...   3854.0         653.0   \n",
       "23  So every day on my way to the gym I eat a bag ...   4791.0         479.0   \n",
       "24  This couple decided to bring their son, I assu...  14210.0         522.0   \n",
       "\n",
       "    nsfw      flair_text  \n",
       "19   0.0  Not the A-hole  \n",
       "20   0.0  Not the A-hole  \n",
       "21   0.0  Not the A-hole  \n",
       "23   0.0  Not the A-hole  \n",
       "24   0.0  Not the A-hole  "
      ]
     },
     "execution_count": 18,
     "metadata": {},
     "output_type": "execute_result"
    }
   ],
   "source": [
    "# Creating a new data frame with data from 2018\n",
    "nta_df = df[df['flair_text'] == 'Not the A-hole']\n",
    "nta_df.head()"
   ]
  },
  {
   "cell_type": "markdown",
   "metadata": {
    "tags": []
   },
   "source": [
    "## 🥊 Challenge 3: Subsetting Data Frames\n",
    "\n",
    "Besides `==` we can use [other operators](https://www.w3schools.com/python/gloss_python_comparison_operators.asp) to compare values. For instance:\n",
    "- `<` less than\n",
    "- `>` greater than\n",
    "\n",
    "Fill in the code below to subset our data frame to include only posts with at least 500 comments (`num_comments`)."
   ]
  },
  {
   "cell_type": "code",
   "execution_count": 19,
   "metadata": {},
   "outputs": [
    {
     "data": {
      "text/plain": [
       "(20000, 9)"
      ]
     },
     "execution_count": 19,
     "metadata": {},
     "output_type": "execute_result"
    }
   ],
   "source": [
    "df.shape"
   ]
  },
  {
   "cell_type": "code",
   "execution_count": 22,
   "metadata": {},
   "outputs": [
    {
     "data": {
      "text/html": [
       "<div>\n",
       "<style scoped>\n",
       "    .dataframe tbody tr th:only-of-type {\n",
       "        vertical-align: middle;\n",
       "    }\n",
       "\n",
       "    .dataframe tbody tr th {\n",
       "        vertical-align: top;\n",
       "    }\n",
       "\n",
       "    .dataframe thead th {\n",
       "        text-align: right;\n",
       "    }\n",
       "</style>\n",
       "<table border=\"1\" class=\"dataframe\">\n",
       "  <thead>\n",
       "    <tr style=\"text-align: right;\">\n",
       "      <th></th>\n",
       "      <th>idstr</th>\n",
       "      <th>created</th>\n",
       "      <th>author</th>\n",
       "      <th>title</th>\n",
       "      <th>selftext</th>\n",
       "      <th>score</th>\n",
       "      <th>num_comments</th>\n",
       "      <th>nsfw</th>\n",
       "      <th>flair_text</th>\n",
       "    </tr>\n",
       "  </thead>\n",
       "  <tbody>\n",
       "    <tr>\n",
       "      <th>0</th>\n",
       "      <td>t3_72kg2a</td>\n",
       "      <td>2017-09-26 13:48:09</td>\n",
       "      <td>Ritsku</td>\n",
       "      <td>AITA for breaking up with my girlfriend becaus...</td>\n",
       "      <td>My girlfriend recently went to the beach with ...</td>\n",
       "      <td>679.0</td>\n",
       "      <td>434.0</td>\n",
       "      <td>0.0</td>\n",
       "      <td>no a--holes here</td>\n",
       "    </tr>\n",
       "    <tr>\n",
       "      <th>1</th>\n",
       "      <td>t3_94kvhi</td>\n",
       "      <td>2018-08-04 17:34:55</td>\n",
       "      <td>hhhhhhffff678</td>\n",
       "      <td>AITA for banning smoking in my house and telli...</td>\n",
       "      <td>My parents smoke like chimneys. I used to as w...</td>\n",
       "      <td>832.0</td>\n",
       "      <td>357.0</td>\n",
       "      <td>0.0</td>\n",
       "      <td>asshole</td>\n",
       "    </tr>\n",
       "    <tr>\n",
       "      <th>2</th>\n",
       "      <td>t3_951az2</td>\n",
       "      <td>2018-08-06 13:31:39</td>\n",
       "      <td>creepatthepool</td>\n",
       "      <td>AITA? Creep wears skimpy bathing suit to pool</td>\n",
       "      <td>Hi guys. Throwaway for obv reasons.\\n\\nI'm a f...</td>\n",
       "      <td>23.0</td>\n",
       "      <td>335.0</td>\n",
       "      <td>0.0</td>\n",
       "      <td>Shitpost</td>\n",
       "    </tr>\n",
       "    <tr>\n",
       "      <th>3</th>\n",
       "      <td>t3_978ioa</td>\n",
       "      <td>2018-08-14 13:50:41</td>\n",
       "      <td>Pauly104</td>\n",
       "      <td>AITA for eating steak in front of my vegan GF?</td>\n",
       "      <td>Yesterday night, me and my GF decided to go ou...</td>\n",
       "      <td>1011.0</td>\n",
       "      <td>380.0</td>\n",
       "      <td>0.0</td>\n",
       "      <td>not the a-hole</td>\n",
       "    </tr>\n",
       "    <tr>\n",
       "      <th>4</th>\n",
       "      <td>t3_99yo3c</td>\n",
       "      <td>2018-08-24 16:03:40</td>\n",
       "      <td>ThatSpencerGuy</td>\n",
       "      <td>AITA for not wanting to cook my mother-in-law ...</td>\n",
       "      <td>My wife and I are vegetarians, much to my in-l...</td>\n",
       "      <td>349.0</td>\n",
       "      <td>360.0</td>\n",
       "      <td>0.0</td>\n",
       "      <td>not the a-hole</td>\n",
       "    </tr>\n",
       "    <tr>\n",
       "      <th>...</th>\n",
       "      <td>...</td>\n",
       "      <td>...</td>\n",
       "      <td>...</td>\n",
       "      <td>...</td>\n",
       "      <td>...</td>\n",
       "      <td>...</td>\n",
       "      <td>...</td>\n",
       "      <td>...</td>\n",
       "      <td>...</td>\n",
       "    </tr>\n",
       "    <tr>\n",
       "      <th>19986</th>\n",
       "      <td>t3_rh71mr</td>\n",
       "      <td>2021-12-15 19:23:29</td>\n",
       "      <td>Revolutionary-Bee601</td>\n",
       "      <td>AITA for taking my sons debit card</td>\n",
       "      <td>So this is what happened. My son who is 15 app...</td>\n",
       "      <td>11.0</td>\n",
       "      <td>363.0</td>\n",
       "      <td>0.0</td>\n",
       "      <td>NaN</td>\n",
       "    </tr>\n",
       "    <tr>\n",
       "      <th>19990</th>\n",
       "      <td>t3_rha8v7</td>\n",
       "      <td>2021-12-15 21:45:12</td>\n",
       "      <td>vacationflop</td>\n",
       "      <td>AITA for refusing to go on vacation with my bo...</td>\n",
       "      <td>My boyfriend Jeremy and I have been together a...</td>\n",
       "      <td>1810.0</td>\n",
       "      <td>377.0</td>\n",
       "      <td>0.0</td>\n",
       "      <td>NaN</td>\n",
       "    </tr>\n",
       "    <tr>\n",
       "      <th>19993</th>\n",
       "      <td>t3_rhetpz</td>\n",
       "      <td>2021-12-16 01:19:06</td>\n",
       "      <td>Monk3y-0</td>\n",
       "      <td>AITA for not letting my mom taste my sandwich</td>\n",
       "      <td>This isn’t nearly as heavy or as serious as mo...</td>\n",
       "      <td>251.0</td>\n",
       "      <td>427.0</td>\n",
       "      <td>0.0</td>\n",
       "      <td>NaN</td>\n",
       "    </tr>\n",
       "    <tr>\n",
       "      <th>19994</th>\n",
       "      <td>t3_rhiq1d</td>\n",
       "      <td>2021-12-16 04:41:56</td>\n",
       "      <td>ellinckn</td>\n",
       "      <td>AITA for saying “try me, bitch” to my friend’s...</td>\n",
       "      <td>My friend (16F), my friend’s boyfriend (17M), ...</td>\n",
       "      <td>2280.0</td>\n",
       "      <td>458.0</td>\n",
       "      <td>0.0</td>\n",
       "      <td>NaN</td>\n",
       "    </tr>\n",
       "    <tr>\n",
       "      <th>19995</th>\n",
       "      <td>t3_rhjc1e</td>\n",
       "      <td>2021-12-16 05:15:18</td>\n",
       "      <td>ReluctantCosigner</td>\n",
       "      <td>WIBTA for refusing to co-sign my friend's mort...</td>\n",
       "      <td>My (29m) good friend (26f) is currently house ...</td>\n",
       "      <td>910.0</td>\n",
       "      <td>327.0</td>\n",
       "      <td>0.0</td>\n",
       "      <td>NaN</td>\n",
       "    </tr>\n",
       "  </tbody>\n",
       "</table>\n",
       "<p>7375 rows × 9 columns</p>\n",
       "</div>"
      ],
      "text/plain": [
       "           idstr              created                author  \\\n",
       "0      t3_72kg2a  2017-09-26 13:48:09                Ritsku   \n",
       "1      t3_94kvhi  2018-08-04 17:34:55         hhhhhhffff678   \n",
       "2      t3_951az2  2018-08-06 13:31:39        creepatthepool   \n",
       "3      t3_978ioa  2018-08-14 13:50:41              Pauly104   \n",
       "4      t3_99yo3c  2018-08-24 16:03:40        ThatSpencerGuy   \n",
       "...          ...                  ...                   ...   \n",
       "19986  t3_rh71mr  2021-12-15 19:23:29  Revolutionary-Bee601   \n",
       "19990  t3_rha8v7  2021-12-15 21:45:12          vacationflop   \n",
       "19993  t3_rhetpz  2021-12-16 01:19:06              Monk3y-0   \n",
       "19994  t3_rhiq1d  2021-12-16 04:41:56              ellinckn   \n",
       "19995  t3_rhjc1e  2021-12-16 05:15:18     ReluctantCosigner   \n",
       "\n",
       "                                                   title  \\\n",
       "0      AITA for breaking up with my girlfriend becaus...   \n",
       "1      AITA for banning smoking in my house and telli...   \n",
       "2          AITA? Creep wears skimpy bathing suit to pool   \n",
       "3         AITA for eating steak in front of my vegan GF?   \n",
       "4      AITA for not wanting to cook my mother-in-law ...   \n",
       "...                                                  ...   \n",
       "19986                 AITA for taking my sons debit card   \n",
       "19990  AITA for refusing to go on vacation with my bo...   \n",
       "19993      AITA for not letting my mom taste my sandwich   \n",
       "19994  AITA for saying “try me, bitch” to my friend’s...   \n",
       "19995  WIBTA for refusing to co-sign my friend's mort...   \n",
       "\n",
       "                                                selftext   score  \\\n",
       "0      My girlfriend recently went to the beach with ...   679.0   \n",
       "1      My parents smoke like chimneys. I used to as w...   832.0   \n",
       "2      Hi guys. Throwaway for obv reasons.\\n\\nI'm a f...    23.0   \n",
       "3      Yesterday night, me and my GF decided to go ou...  1011.0   \n",
       "4      My wife and I are vegetarians, much to my in-l...   349.0   \n",
       "...                                                  ...     ...   \n",
       "19986  So this is what happened. My son who is 15 app...    11.0   \n",
       "19990  My boyfriend Jeremy and I have been together a...  1810.0   \n",
       "19993  This isn’t nearly as heavy or as serious as mo...   251.0   \n",
       "19994  My friend (16F), my friend’s boyfriend (17M), ...  2280.0   \n",
       "19995  My (29m) good friend (26f) is currently house ...   910.0   \n",
       "\n",
       "       num_comments  nsfw        flair_text  \n",
       "0             434.0   0.0  no a--holes here  \n",
       "1             357.0   0.0           asshole  \n",
       "2             335.0   0.0          Shitpost  \n",
       "3             380.0   0.0    not the a-hole  \n",
       "4             360.0   0.0    not the a-hole  \n",
       "...             ...   ...               ...  \n",
       "19986         363.0   0.0               NaN  \n",
       "19990         377.0   0.0               NaN  \n",
       "19993         427.0   0.0               NaN  \n",
       "19994         458.0   0.0               NaN  \n",
       "19995         327.0   0.0               NaN  \n",
       "\n",
       "[7375 rows x 9 columns]"
      ]
     },
     "execution_count": 22,
     "metadata": {},
     "output_type": "execute_result"
    }
   ],
   "source": [
    "# YOUR CODE HERE[\n",
    "df[df['num_comments'] < 500]"
   ]
  },
  {
   "cell_type": "markdown",
   "metadata": {},
   "source": [
    "## 🥊 Challenge 4: Subsetting and Calculating the Mean\n",
    "\n",
    "Let's make use of subsetting to do some calculation! Calculate the **average score** for a flair of your choice. \n",
    "\n",
    "This means you will have to:\n",
    "1. Subset the `flair_text` column using a Boolean mask.\n",
    "2. Take the `score` column from that subset.\n",
    "3. Apply a Pandas method to get the mean from that column.\n",
    "\n",
    "You might not know how to get the mean of a column – yet! If that's the case, **use your search engine**.\n",
    "\n",
    "1. Enter the name of the computer language or package, and your question (for instance: \"Pandas calculate mean\").\n",
    "2. Read and compare the results you find.\n",
    "3. Try 'em out!"
   ]
  },
  {
   "cell_type": "code",
   "execution_count": null,
   "metadata": {},
   "outputs": [],
   "source": [
    "# YOUR CODE HERE\n",
    "\n"
   ]
  },
  {
   "cell_type": "markdown",
   "metadata": {
    "tags": []
   },
   "source": [
    "<a id='group'></a>\n",
    "\n",
    "# 🎬 Demo: Grouping and Plotting Data Frames\n",
    "\n",
    "There is a lot more you can do in Pandas. Here's a small demo of what you can do:"
   ]
  },
  {
   "cell_type": "code",
   "execution_count": 24,
   "metadata": {},
   "outputs": [],
   "source": [
    "# Use a new data visualization package called seaborn\n",
    "# %pip install seaborn\n",
    "import seaborn as sns\n",
    "import matplotlib.pyplot as plt"
   ]
  },
  {
   "cell_type": "code",
   "execution_count": 25,
   "metadata": {},
   "outputs": [
    {
     "data": {
      "text/plain": [
       "(0.0, 30000.0)"
      ]
     },
     "execution_count": 25,
     "metadata": {},
     "output_type": "execute_result"
    },
    {
     "data": {
      "image/png": "[encoded data removed]",
      "text/plain": [
       "<Figure size 640x480 with 1 Axes>"
      ]
     },
     "metadata": {},
     "output_type": "display_data"
    }
   ],
   "source": [
    "# Obtain the top 4 most common flairs\n",
    "top_flairs = df['flair_text'].value_counts().head(4).index\n",
    "\n",
    "# Subset the dataframe by these flairs\n",
    "df_top_flairs = df[df['flair_text'].isin(top_flairs)]\n",
    "\n",
    "# Use seaborn to plot a histogram\n",
    "sns.histplot(\n",
    "    data=df_top_flairs,\n",
    "    x='score',\n",
    "    hue='flair_text',\n",
    "    alpha=0.5,\n",
    "    stat='density',\n",
    "    kde=True)\n",
    "\n",
    "# Adjust the x-axis limits\n",
    "plt.xlim([0, 30000])"
   ]
  },
  {
   "cell_type": "markdown",
   "metadata": {},
   "source": [
    "# 🎉 Well Done!\n",
    "\n",
    "This workshop series took us through the basics of data analysis in Python:\n",
    "\n",
    "- Using Jupyter notebooks.\n",
    "- Variables, data types, functions.\n",
    "- Looking through documentation.\n",
    "- Googling errors and debugging.\n",
    "- Manipulating data with Pandas."
   ]
  },
  {
   "cell_type": "markdown",
   "metadata": {
    "jp-MarkdownHeadingCollapsed": true,
    "tags": []
   },
   "source": [
    "<div class=\"alert alert-success\">\n",
    "\n",
    "## ❗ Key Points\n",
    "\n",
    "* Import a library into Python using `import <libraryname>`.\n",
    "* Data frames allow you to work with tabular data (think Excel in Python).\n",
    "* A .csv file is just a text file that contains data separated by commas.\n",
    "* Use the `pandas` library to work with data frames.\n",
    "* Data frames are typically assigned as `df`.\n",
    "* `DataFrame` columns can be indexed using square brackets - e.g. `df[last_name]` indexes a column called \"last_name\" in `df`.\n",
    "* Use the `.describe()` method on a `DataFrame` to get basic summary statistics.\n",
    "    \n",
    "</div>"
   ]
  }
 ],
 "metadata": {
  "kernelspec": {
   "display_name": "venv",
   "language": "python",
   "name": "python3"
  },
  "language_info": {
   "codemirror_mode": {
    "name": "ipython",
    "version": 3
   },
   "file_extension": ".py",
   "mimetype": "text/x-python",
   "name": "python",
   "nbconvert_exporter": "python",
   "pygments_lexer": "ipython3",
   "version": "3.13.0"
  },
  "toc": {
   "base_numbering": 1,
   "nav_menu": {},
   "number_sections": false,
   "sideBar": true,
   "skip_h1_title": false,
   "title_cell": "Table of Contents",
   "title_sidebar": "Contents",
   "toc_cell": false,
   "toc_position": {},
   "toc_section_display": true,
   "toc_window_display": false
  },
  "varInspector": {
   "cols": {
    "lenName": 16,
    "lenType": 16,
    "lenVar": 40
   },
   "kernels_config": {
    "python": {
     "delete_cmd_postfix": "",
     "delete_cmd_prefix": "del ",
     "library": "var_list.py",
     "varRefreshCmd": "print(var_dic_list())"
    },
    "r": {
     "delete_cmd_postfix": ") ",
     "delete_cmd_prefix": "rm(",
     "library": "var_list.r",
     "varRefreshCmd": "cat(var_dic_list()) "
    }
   },
   "types_to_exclude": [
    "module",
    "function",
    "builtin_function_or_method",
    "instance",
    "_Feature"
   ],
   "window_display": false
  },
  "widgets": {
   "application/vnd.jupyter.widget-state+json": {
    "state": {},
    "version_major": 2,
    "version_minor": 0
   }
  }
 },
 "nbformat": 4,
 "nbformat_minor": 4
}
