{
 "cells": [
  {
   "cell_type": "markdown",
   "id": "429ec3fc-cd2d-4bff-98b7-15d80713c3f5",
   "metadata": {},
   "source": [
    "# Tutorial Overview\n",
    "\n",
    "Note that this tutorial was adapted from the tutorial given by D-Lab at UC Berkeley.\n",
    "\n",
    "## Workshop Goals\n",
    "\n",
    "You are not expected to have prior programming knowledge, and you are not\n",
    "evaluated on your coding skills. However, this course does make heavy use of\n",
    "Python, particularly through Jupyter Notebooks, so you will have the chance to\n",
    "work on your coding skills and your understanding of some techniques.\n",
    "\n",
    "## Installation Instructions\n",
    "\n",
    "We will use the Python programming language in this workshop. To interact with\n",
    "Python, we will use **Jupyter Notebooks**, which provide an effective way to\n",
    "conduct data analysis and create visualizations in Python.\n",
    "\n",
    "There are **two ways** to get the materials in this workshop working on your\n",
    "computer:\n",
    "\n",
    "1. The first is to run the materials directly on your personal machine by\n",
    "   installing Python and Jupyter on your computer. This is often referred to as\n",
    "   a **local installation** or **running Python locally**.\n",
    "2. The second is the run the materials on **the cloud via Google collaboratory**. In this option, you do not need to do any installation. You simply have to log in to your google drive, upload the python jupyter notebook, and run on the code on the drive.\n",
    "\n",
    "### Local Installation\n",
    "\n",
    "In a local installation, both Python, Jupyter, and other necessary packages need\n",
    "to be installed on your computer. **Anaconda** is software that is the standard\n",
    "approach used to carry out all these installations. Installing Anaconda is the\n",
    "easiest way to make sure you have all the necessary software to run the\n",
    "materials for this workshop. Complete the following steps:\n",
    "\n",
    "1. [Download and install\n",
    "   Anaconda](https://www.anaconda.com/products/individual). Click \"Download\" and\n",
    "   choose the correct option for your operating system.\n",
    "\n",
    "2. Locate the downloaded file and install it. Follow the steps, using the\n",
    "   default options.\n",
    "\n",
    "3. Next, you need to download the materials in this repository to your computer.\n",
    "\n",
    "* Click the green \"Code\" button in the top right of the repository information.\n",
    "* Click \"Download Zip\".\n",
    "* Extract this file to a folder on your computer that makes sense.\n",
    "\n",
    "4. A program called \"Anaconda Navigator\" should be installed on your computer.\n",
    "   Start this program. Then, under \"JupyterLab\", click the \"Launch\" button.\n",
    "\n",
    "5. On the left hand side, you should use the file navigator to locate the\n",
    "   workshop materials you downloaded.\n",
    "\n",
    "\n",
    "Alternatively, you can install Python and jupyter notebook separately using the Python package installer (pip).  This allows you to have better control over the packages you have on your computer.  For this method, please consult with a large language model to help you with the installation.\n",
    "\n",
    "## Run the Code\n",
    "\n",
    "Now that you have all the required software and materials, you need to run the\n",
    "code:\n",
    "\n",
    "1. Open the Anaconda Navigator application. You should see the green snake logo\n",
    "   appear on your screen. Note that this can take a few minutes to load up the\n",
    "   first time.\n",
    "\n",
    "2. Click the \"Launch\" button under \"Jupyter Lab\" and navigate through your file\n",
    "   system to the specific jupyter notebook you would like to work on.\n",
    "\n",
    "3. Press Shift + Enter (or Ctrl + Enter) to run a cell.\n",
    "\n",
    "\n"
   ]
  },
  {
   "cell_type": "markdown",
   "id": "9148b227-da9a-42d5-a32e-38f9ec79b263",
   "metadata": {},
   "source": [
    "<a id='this'></a>\n",
    "\n",
    "# This Class\n",
    "\n",
    "Our goal is to build programmatic and data science skills, grounded in a politics of justice, to better inform our advocacy as machine learning and AI tools are increasingly used in society.\n",
    "\n",
    "Even if you’re new to programming, the ability to collect and analyze data independently means you no longer have to take people in power at their word when they tell you what \"the data\" says. You can find data, evalute it, analyze it, and present your own findings. This will help you decide who you can trust, and help you find a voice in speaking truth to power. At the same time, you can speak with greater authority when data science and machine learning products are used improperly in society, because you yourself have developed the technical skills to interact with these products on a deeper level.\n",
    "\n",
    "So, we begin by building a foundation in Python.\n",
    "\n",
    "## What is Python?\n",
    "\n",
    "Python is a general-purpose programming language. It can be used for many tasks, including building websites and software, automating tasks, data analysis, and more.\n",
    "\n",
    "📝 **Poll**: Have you used Python, or another programming language before? What have you used it for?\n",
    "\n",
    "This introduction to Python is built around **data analysis**, although many of these skills will be useful for other applications of Python.\n",
    "\n",
    "The dataset we will be using in this workshop comes from the social media platform [Reddit](https://www.reddit.com). We will specifically use data from a subreddit, or a sub-community in Reddit, called [r/amitheasshole](https://reddit.com/r/AmItheAsshole). \n",
    "\n",
    "The subreddit describes itself as \"A catharsis for the frustrated moral philosopher in all of us, and a place to finally find out if you were wrong in an argument that's been bothering you. Tell us about any non-violent conflict you have experienced; give us both sides of the story, and find out if you're right, or you're the asshole.\"\n",
    "\n",
    "We've scraped many of the comments from this subreddit, and placed them in a file that looks something like this:\n",
    "\n",
    "<img src=\"images/aita_ex.png\" alt=\"gapminder_data\" width=\"800\"/>\n",
    "\n",
    "Imagine you're a data scientist wanting to perform an exploratory data analysis on this dataset, using the basics of Python. By the end of this workshop, you'll be doing just that."
   ]
  },
  {
   "cell_type": "markdown",
   "id": "06bff8a6-9f21-44f9-ae1e-36fce457f8fe",
   "metadata": {},
   "source": [
    "<a id='jupyter'></a>\n",
    "# Working With Jupyter Notebooks\n",
    "\n",
    "We use Jupyter as our interface for coding. The document you are looking at is called a **Jupyter Notebook**: it allows us to add code, computational output, visualizations and images, along with explanatory text in a single document. \n",
    "\n",
    "You can use Jupyter Notebooks for all sorts of data science tasks: from data cleaning and transformation, to exploratory data analysis and visualization, to machine learning, and more.\n",
    "\n",
    "💡 **Tip**: You can create a new Notebook of your own by clicking on `File -> New -> Notebook`, or by clicking the blue `+` button."
   ]
  },
  {
   "cell_type": "markdown",
   "id": "715f6697-ab86-4429-ad8b-c06cbe2b4511",
   "metadata": {},
   "source": [
    "## Two Types of Cells\n",
    "\n",
    "In Jupyter Notebook documents, code and text are divided into cells which can each be run separately. There are two types of cells: **Markdown cells** and **code cells**. "
   ]
  },
  {
   "cell_type": "markdown",
   "id": "9e065794-ac83-44db-8da8-5a703e3bb32d",
   "metadata": {},
   "source": [
    "## Markdown Cells\n",
    "\n",
    "This cell is written in **Markdown**, a language that you can use to add formatting elements to plain text – things like headings, bulleted lists, and URLs.\n",
    "\n",
    "Markdown has its own syntax, which is fairly straighforward. Here's a [cheatsheet](https://github.com/adam-p/markdown-here/wiki/Markdown-Cheatsheet) if you want to know more. You can also double-click on any of the Markdown cells in the Notebook to see how they are made.\n",
    "\n",
    "Let's double-click this text cell to see the Markdown code that's rendering this cell. Press **Shift + Enter** to go back to the formatted text.\n",
    "\n",
    "If you want to create new empty cells, you can use the `+` button at the top of the Notebook. You can change the cell type at the top of the Notebook as well, where it says \"Markdown\" or \"Code\"."
   ]
  },
  {
   "cell_type": "markdown",
   "id": "3e386b5d-484c-43d5-a999-5ec471968af7",
   "metadata": {},
   "source": [
    "## Command Mode and Edit Mode \n",
    "\n",
    "Jupyter has two modes: Edit mode and Command mode. Edit mode allows you to type into the cells like a normal text editor. Command mode allows you to edit the notebook as a whole, but not type into individual cells.\n",
    "\n",
    "- Enter **Edit Mode** by pressing **Enter** or double-clicking on a cell’s editor area.\n",
    "- Enter **Command Mode** by pressing **Esc** or clicking outside a cell's editor area. In command mode you can use shortcuts to work with cells:\n",
    "    - `c`: copy cell.\n",
    "    - `v`: paste cell.\n",
    "    - `d, d` (press key twice): delete cell.\n",
    "    - `a`: insert cell above.\n",
    "    - `b`: insert cell below."
   ]
  },
  {
   "cell_type": "markdown",
   "id": "99e74909-7a1c-4295-8abe-e0258ea9de4a",
   "metadata": {},
   "source": [
    "## Code Cells\n",
    "\n",
    "The cell below is a code cell. Press **Shift + Enter** on it to run the code and advance to the next cell.<br>"
   ]
  },
  {
   "cell_type": "code",
   "execution_count": 1,
   "id": "1cd1cc9b-7784-4961-9371-f1e531aa5de9",
   "metadata": {},
   "outputs": [
    {
     "name": "stdout",
     "output_type": "stream",
     "text": [
      "Welcome to APMA0111!\n"
     ]
    }
   ],
   "source": [
    "print('Welcome to APMA0111!')"
   ]
  },
  {
   "cell_type": "markdown",
   "id": "5216c5fd-cae5-43b9-beb1-724d7d40e71f",
   "metadata": {},
   "source": [
    "`print()` is a **function**. A function is like a little program that performs an action on some value or data. You can identify a function through its trailing round parentheses `()`. The `print()` function just prints out whatever you put in between the parentheses."
   ]
  },
  {
   "cell_type": "markdown",
   "id": "a3c0c873-47d2-40aa-82b2-77ce12c1f101",
   "metadata": {},
   "source": [
    "## 🥊 Challenge 1: Printing\n",
    "\n",
    "Write your own `print()` function in the code cell below. Follow the syntax of the example above, and change the text in the quotation marks."
   ]
  },
  {
   "cell_type": "code",
   "execution_count": 2,
   "id": "00a45228-12e0-4783-a309-444f58abd7ab",
   "metadata": {},
   "outputs": [
    {
     "name": "stdout",
     "output_type": "stream",
     "text": [
      "hello world\n"
     ]
    }
   ],
   "source": [
    "# YOUR CODE HERE\n",
    "print(\"hello world\")"
   ]
  },
  {
   "cell_type": "markdown",
   "id": "218c0bb2-a06a-47e4-a4a4-7f9a023b2efc",
   "metadata": {},
   "source": [
    "<a id='variables'></a>\n",
    "\n",
    "# Variables in Python\n",
    "\n",
    "You can use Python as a calculator:"
   ]
  },
  {
   "cell_type": "code",
   "execution_count": 3,
   "id": "78e234a3-7002-4542-90cf-7a5b2721efdc",
   "metadata": {},
   "outputs": [
    {
     "data": {
      "text/plain": [
       "18"
      ]
     },
     "execution_count": 3,
     "metadata": {},
     "output_type": "execute_result"
    }
   ],
   "source": [
    "10 + 4 * 2"
   ]
  },
  {
   "cell_type": "markdown",
   "id": "5626228f-2a34-43c5-81bc-cb61a656b10e",
   "metadata": {},
   "source": [
    "This is cool, but how can we save the result of this calculation?\n",
    "\n",
    "In Python, we can assign a value to a **variable**, using the equals sign `=`. You can think of a variable as a \"placeholder\" or symbolic name for some value.\n",
    "\n",
    "For example, we can assign the result of the above calculation to a variable called `a`.\n",
    "\n",
    "📝 **Poll:** What do you think the output of the following code cell will be?"
   ]
  },
  {
   "cell_type": "code",
   "execution_count": 4,
   "id": "395ab053-8bab-46ef-b26d-e89c1ef01659",
   "metadata": {},
   "outputs": [
    {
     "name": "stdout",
     "output_type": "stream",
     "text": [
      "18\n"
     ]
    }
   ],
   "source": [
    "a = 10 + 4 * 2\n",
    "print(a)"
   ]
  },
  {
   "cell_type": "markdown",
   "id": "fa125740-0142-4ce9-99cf-c15bb0d51523",
   "metadata": {},
   "source": [
    "From now on, whenever you refer to `a`, Python will substitute the value we assigned to it. \n",
    "\n",
    "💡 **Tip**: In Jupyter, you don't always need to use `print` explicitly. When you want to check what value a certain variable holds, you can just type the variable name and run the cell. Let's try it:"
   ]
  },
  {
   "cell_type": "code",
   "execution_count": 5,
   "id": "d6a80f65-1170-401c-a96d-98ea7c1ad93e",
   "metadata": {},
   "outputs": [
    {
     "data": {
      "text/plain": [
       "18"
      ]
     },
     "execution_count": 5,
     "metadata": {},
     "output_type": "execute_result"
    }
   ],
   "source": [
    "a"
   ]
  },
  {
   "cell_type": "markdown",
   "id": "757f7150-a040-4f7c-aaec-5d2cea31df52",
   "metadata": {},
   "source": [
    "## 🥊 Challenge 2: Executing Cells Multiple Times\n",
    "\n",
    "Try using **Shift + Enter** to run the following cell three times. What is the output? Can you explain what is happening?"
   ]
  },
  {
   "cell_type": "code",
   "execution_count": 26,
   "id": "b4b2ce05-8191-4b35-8443-aa511f635a07",
   "metadata": {},
   "outputs": [
    {
     "name": "stdout",
     "output_type": "stream",
     "text": [
      "19\n"
     ]
    }
   ],
   "source": [
    "a = a + 1\n",
    "print(a)"
   ]
  },
  {
   "cell_type": "markdown",
   "id": "8408c4ab-7bab-48ab-b1bb-cefe4f3f2c77",
   "metadata": {},
   "source": [
    "## Calculating With Variables\n",
    "\n",
    "The key feature of variables is that we can use them just as if they were values. Let's check out some common operations below. \n",
    "\n",
    "🔔 **Question:** What outputs do you expect to be printed in the cell below? "
   ]
  },
  {
   "cell_type": "code",
   "execution_count": 27,
   "id": "f4dfef14-30cc-4eb8-b17c-30edf0e8ee34",
   "metadata": {},
   "outputs": [
    {
     "name": "stdout",
     "output_type": "stream",
     "text": [
      "1250\n",
      "331\n",
      "8946.0\n",
      "0.6089193825042881\n"
     ]
    }
   ],
   "source": [
    "n_comments_post1 = 1000\n",
    "n_comments_post2 = 250\n",
    "n_posts = 355\n",
    "n_posts_removed = 24\n",
    "avg_score = 25.2\n",
    "n_users = 583\n",
    "\n",
    "# Addition\n",
    "print(n_comments_post1 + n_comments_post2)\n",
    "\n",
    "# Subtraction\n",
    "print(n_posts - n_posts_removed)\n",
    "\n",
    "# Multiplication\n",
    "print(avg_score * n_posts)\n",
    "\n",
    "# Division\n",
    "print(n_posts / n_users)\n"
   ]
  },
  {
   "cell_type": "markdown",
   "id": "20895f80-d5a1-4f0b-b344-f10dbd7dd35c",
   "metadata": {},
   "source": [
    "You might have noticed the pound signs `#` in the code cell above. These are **comments**, meaning that line of your code won't run."
   ]
  },
  {
   "cell_type": "code",
   "execution_count": 1,
   "id": "825cd966-d8c8-470b-93bd-edce289d87b9",
   "metadata": {},
   "outputs": [
    {
     "name": "stdout",
     "output_type": "stream",
     "text": [
      "2\n"
     ]
    }
   ],
   "source": [
    "print(1 + 1)\n",
    "\n",
    "# This line should be commented\n",
    "# this_variable_too = 'a' * 'b'"
   ]
  },
  {
   "cell_type": "markdown",
   "id": "8dad23d7-8a08-4670-980c-9747caae4106",
   "metadata": {},
   "source": [
    "## Naming Variables\n",
    "\n",
    "Variable names **must** follow a few rules:\n",
    "\n",
    "* They cannot start with a digit.\n",
    "* They cannot contain spaces, quotation marks, or other punctuation.\n",
    "* They *may* contain an underscore.\n",
    "* They are case-sensitive (`sub_reddit` is not the same as `Sub_reddit`).\n",
    "\n",
    "Ignoring these rules will result in an error in Python. \n",
    "\n",
    "\n",
    "## 🥊 Challenge 3: Debugging Variable Names\n",
    "\n",
    "The following block of code includes variable names that cause an error. Consider the following questions:\n",
    "1. Which rule is being broken? Can you find this information in the error message?\n",
    "2. How would you change the code?\n"
   ]
  },
  {
   "cell_type": "code",
   "execution_count": 2,
   "id": "8885ac98-b6a6-4e36-98ec-9174c64402af",
   "metadata": {},
   "outputs": [
    {
     "name": "stdout",
     "output_type": "stream",
     "text": [
      "AskHistorians is a subreddit in Reddit\n"
     ]
    }
   ],
   "source": [
    "subreddit_1 = 'AskHistorians'\n",
    "platform = 'Reddit'\n",
    "\n",
    "print(subreddit_1, 'is a subreddit in', platform)"
   ]
  },
  {
   "cell_type": "markdown",
   "id": "a502f2e2-a2e6-4223-b0d9-3e4e24f020d2",
   "metadata": {},
   "source": [
    "## Debugging\n",
    "\n",
    "You've seen two types of errors by now: `SyntaxError` (you're writing something wrong) and `NameError` (the variable, function, or module you're calling doesn't exist). There are many other errors. **Don't be daunted by them!**\n",
    "\n",
    "When you want to try and debug an error, think of the following:\n",
    "\n",
    "1. **Read the errors.** Especially the end of the error message. It gives you a summary about what went wrong, and in which line the error is found. \n",
    "2. **Check your syntax.** You might just be spelling something wrong.\n",
    "3. **Look for help.** You might just be using a function in a wrong way. Get into the habit of reading documentation and finding help online. We'll be doing this in the next workshops.\n",
    "\n",
    "## 🥊 Challenge 4: What The...\n",
    "\n",
    "What does the following error tell you?"
   ]
  },
  {
   "cell_type": "code",
   "execution_count": 3,
   "id": "302cb004-e5db-49b6-a1dc-224e8a65a699",
   "metadata": {},
   "outputs": [
    {
     "name": "stdout",
     "output_type": "stream",
     "text": [
      "something went wrong\n"
     ]
    }
   ],
   "source": [
    "print('something went wrong')"
   ]
  },
  {
   "cell_type": "markdown",
   "id": "201513a4-e0a9-4e70-9f16-e5140dbee6d4",
   "metadata": {},
   "source": [
    "When you're programming, most of your time will be spent debugging, looking stuff up, or testing. Relatively little time is actually spent typing out the code."
   ]
  },
  {
   "cell_type": "markdown",
   "id": "c47c981c-6cbf-4683-8142-3eaf8e75808a",
   "metadata": {},
   "source": [
    "## The Kernel\n",
    "\n",
    "The **kernel** is the computational engine that executes the code contained in a Jupyter Notebook. Each time you run a code block, the kernel processes that block, executes the code, and keeps a record of what was run.\n",
    " \n",
    "⚠️ **Warning**: Jupyter remembers all lines of code it executed, **even if it's not currently displayed in the Notebook**. Deleting a line of code or changing it to Markdown does not delete it from the Notebook's memory if it has already been run! This can cause a lot of confusion."
   ]
  },
  {
   "cell_type": "markdown",
   "id": "bc5d982d-5c5a-4a7f-89f7-b07da3a6c37b",
   "metadata": {},
   "source": [
    "### Restarting the Kernel\n",
    "\n",
    "To clear your session in a Jupyter Notebook, use `Kernel -> Restart` in the menu. The kernel is basically the program actually running the code, so if you reset the kernel, it's as if you just opened up the Notebook for the first time. **All of the variables you set are lost.**\n",
    "\n",
    "🔔 **Question:** Run the cell below. What is the output?"
   ]
  },
  {
   "cell_type": "code",
   "execution_count": 4,
   "id": "a093ba89-965c-46d6-8a0f-bf16d966e432",
   "metadata": {},
   "outputs": [
    {
     "data": {
      "text/plain": [
       "'I am just a string.'"
      ]
     },
     "execution_count": 4,
     "metadata": {},
     "output_type": "execute_result"
    }
   ],
   "source": [
    "mystring = 'I am just a string.'\n",
    "\n",
    "mystring"
   ]
  },
  {
   "cell_type": "markdown",
   "id": "a34b6a29-9351-44b8-a306-8fe5fac7bf8d",
   "metadata": {},
   "source": [
    " Now use `Kernel -> Restart` in the menu! Then run the code below. What happens?"
   ]
  },
  {
   "cell_type": "code",
   "execution_count": 5,
   "id": "fa9c2e83-cfcc-45e4-9cf9-b75b813aa6c7",
   "metadata": {},
   "outputs": [
    {
     "data": {
      "text/plain": [
       "'I am just a string.'"
      ]
     },
     "execution_count": 5,
     "metadata": {},
     "output_type": "execute_result"
    }
   ],
   "source": [
    "mystring"
   ]
  },
  {
   "cell_type": "markdown",
   "id": "2a074fd3-d7a9-4ab1-b5b3-5a6b1bdc5fa3",
   "metadata": {},
   "source": [
    "Note that the error message tells you where the error happened (with an arrow, no less!). It is telling us that `mystring` is not defined, since we just reset the kernel.\n",
    "\n",
    "If you encounter problems like these, you should restart your kernel and rerun all cells in order.\n",
    "\n",
    "💡 **Tip:** To see which variables we have assigned, you can use the magic command `%whos`. Magic commands are Jupyter-specific: [read about all of them here](https://ipython.readthedocs.io/en/stable/interactive/magics.html). There are a lot of really useful ones!"
   ]
  },
  {
   "cell_type": "code",
   "execution_count": 6,
   "id": "1537e47f-8d69-4a25-a19d-2dfa752dc783",
   "metadata": {},
   "outputs": [
    {
     "name": "stdout",
     "output_type": "stream",
     "text": [
      "Variable      Type    Data/Info\n",
      "-------------------------------\n",
      "mystring      str     I am just a string.\n",
      "platform      str     Reddit\n",
      "subreddit_1   str     AskHistorians\n"
     ]
    }
   ],
   "source": [
    "# This is a magic command\n",
    "%whos"
   ]
  },
  {
   "cell_type": "markdown",
   "id": "4c91619f-5f83-42d8-809e-b647e96de837",
   "metadata": {},
   "source": [
    "## 🥊 Challenge 5: Swapping Values\n",
    "\n",
    "Let's say we have two variables and we want to swap the values for each of them, so that `start` is assigned to `2017` and `end` is assigned to `2023`. \n",
    "\n",
    "🔔 **Question**: Does the following method accomplish the goal?"
   ]
  },
  {
   "cell_type": "code",
   "execution_count": 7,
   "id": "0801276b-6b6f-4bfc-9152-7ae53586a516",
   "metadata": {},
   "outputs": [
    {
     "name": "stdout",
     "output_type": "stream",
     "text": [
      "2023 2023\n"
     ]
    }
   ],
   "source": [
    "start = 2017\n",
    "end = 2023\n",
    "\n",
    "start = end\n",
    "end = start\n",
    "\n",
    "print(start, end)"
   ]
  },
  {
   "cell_type": "markdown",
   "id": "7f2462d3-0a44-4df3-ba06-9b7eb7b156ab",
   "metadata": {},
   "source": [
    "Using a third temporary variable (you could call it `temp`), swap the first and last variables, so that `start = 2023` and `end = 2017`."
   ]
  },
  {
   "cell_type": "code",
   "execution_count": 8,
   "id": "9b640ed6-197e-424b-8770-67b6a66fff45",
   "metadata": {},
   "outputs": [],
   "source": [
    "start = 2017\n",
    "end = 2023\n",
    "\n",
    "# YOUR CODE HERE\n",
    "temp = end\n",
    "end =  start\n",
    "start = temp"
   ]
  },
  {
   "cell_type": "markdown",
   "id": "6055c71a-44c6-41b3-a8ce-aaa9f2960f6f",
   "metadata": {},
   "source": [
    "<a id='demo'></a>\n",
    "\n",
    "# 🎬 Demo: Working With Data Frames\n",
    "\n",
    "To cap off this session, here's a demo to see what reproducible data science with Python and Jupyter looks like.\n",
    "\n",
    "We'll be using a Pandas data frame to store and manipulate the data. Don't worry if you don't understand this yet – you'll learn more about `pandas` in Notebook 3!\n",
    "\n",
    "First, let's have a look at the data:"
   ]
  },
  {
   "cell_type": "code",
   "execution_count": 14,
   "id": "4947000c-34f1-4166-8a8f-027a28b9e1b3",
   "metadata": {},
   "outputs": [
    {
     "data": {
      "text/html": [
       "<div>\n",
       "<style scoped>\n",
       "    .dataframe tbody tr th:only-of-type {\n",
       "        vertical-align: middle;\n",
       "    }\n",
       "\n",
       "    .dataframe tbody tr th {\n",
       "        vertical-align: top;\n",
       "    }\n",
       "\n",
       "    .dataframe thead th {\n",
       "        text-align: right;\n",
       "    }\n",
       "</style>\n",
       "<table border=\"1\" class=\"dataframe\">\n",
       "  <thead>\n",
       "    <tr style=\"text-align: right;\">\n",
       "      <th></th>\n",
       "      <th>idstr</th>\n",
       "      <th>created</th>\n",
       "      <th>author</th>\n",
       "      <th>title</th>\n",
       "      <th>selftext</th>\n",
       "      <th>score</th>\n",
       "      <th>num_comments</th>\n",
       "      <th>nsfw</th>\n",
       "      <th>flair_text</th>\n",
       "    </tr>\n",
       "  </thead>\n",
       "  <tbody>\n",
       "    <tr>\n",
       "      <th>0</th>\n",
       "      <td>t3_72kg2a</td>\n",
       "      <td>2017-09-26 13:48:09</td>\n",
       "      <td>Ritsku</td>\n",
       "      <td>AITA for breaking up with my girlfriend becaus...</td>\n",
       "      <td>My girlfriend recently went to the beach with ...</td>\n",
       "      <td>679.0</td>\n",
       "      <td>434.0</td>\n",
       "      <td>0.0</td>\n",
       "      <td>no a--holes here</td>\n",
       "    </tr>\n",
       "    <tr>\n",
       "      <th>1</th>\n",
       "      <td>t3_94kvhi</td>\n",
       "      <td>2018-08-04 17:34:55</td>\n",
       "      <td>hhhhhhffff678</td>\n",
       "      <td>AITA for banning smoking in my house and telli...</td>\n",
       "      <td>My parents smoke like chimneys. I used to as w...</td>\n",
       "      <td>832.0</td>\n",
       "      <td>357.0</td>\n",
       "      <td>0.0</td>\n",
       "      <td>asshole</td>\n",
       "    </tr>\n",
       "    <tr>\n",
       "      <th>2</th>\n",
       "      <td>t3_951az2</td>\n",
       "      <td>2018-08-06 13:31:39</td>\n",
       "      <td>creepatthepool</td>\n",
       "      <td>AITA? Creep wears skimpy bathing suit to pool</td>\n",
       "      <td>Hi guys. Throwaway for obv reasons.\\n\\nI'm a f...</td>\n",
       "      <td>23.0</td>\n",
       "      <td>335.0</td>\n",
       "      <td>0.0</td>\n",
       "      <td>Shitpost</td>\n",
       "    </tr>\n",
       "    <tr>\n",
       "      <th>3</th>\n",
       "      <td>t3_978ioa</td>\n",
       "      <td>2018-08-14 13:50:41</td>\n",
       "      <td>Pauly104</td>\n",
       "      <td>AITA for eating steak in front of my vegan GF?</td>\n",
       "      <td>Yesterday night, me and my GF decided to go ou...</td>\n",
       "      <td>1011.0</td>\n",
       "      <td>380.0</td>\n",
       "      <td>0.0</td>\n",
       "      <td>not the a-hole</td>\n",
       "    </tr>\n",
       "    <tr>\n",
       "      <th>4</th>\n",
       "      <td>t3_99yo3c</td>\n",
       "      <td>2018-08-24 16:03:40</td>\n",
       "      <td>ThatSpencerGuy</td>\n",
       "      <td>AITA for not wanting to cook my mother-in-law ...</td>\n",
       "      <td>My wife and I are vegetarians, much to my in-l...</td>\n",
       "      <td>349.0</td>\n",
       "      <td>360.0</td>\n",
       "      <td>0.0</td>\n",
       "      <td>not the a-hole</td>\n",
       "    </tr>\n",
       "  </tbody>\n",
       "</table>\n",
       "</div>"
      ],
      "text/plain": [
       "       idstr              created          author  \\\n",
       "0  t3_72kg2a  2017-09-26 13:48:09          Ritsku   \n",
       "1  t3_94kvhi  2018-08-04 17:34:55   hhhhhhffff678   \n",
       "2  t3_951az2  2018-08-06 13:31:39  creepatthepool   \n",
       "3  t3_978ioa  2018-08-14 13:50:41        Pauly104   \n",
       "4  t3_99yo3c  2018-08-24 16:03:40  ThatSpencerGuy   \n",
       "\n",
       "                                               title  \\\n",
       "0  AITA for breaking up with my girlfriend becaus...   \n",
       "1  AITA for banning smoking in my house and telli...   \n",
       "2      AITA? Creep wears skimpy bathing suit to pool   \n",
       "3     AITA for eating steak in front of my vegan GF?   \n",
       "4  AITA for not wanting to cook my mother-in-law ...   \n",
       "\n",
       "                                            selftext   score  num_comments  \\\n",
       "0  My girlfriend recently went to the beach with ...   679.0         434.0   \n",
       "1  My parents smoke like chimneys. I used to as w...   832.0         357.0   \n",
       "2  Hi guys. Throwaway for obv reasons.\\n\\nI'm a f...    23.0         335.0   \n",
       "3  Yesterday night, me and my GF decided to go ou...  1011.0         380.0   \n",
       "4  My wife and I are vegetarians, much to my in-l...   349.0         360.0   \n",
       "\n",
       "   nsfw        flair_text  \n",
       "0   0.0  no a--holes here  \n",
       "1   0.0           asshole  \n",
       "2   0.0          Shitpost  \n",
       "3   0.0    not the a-hole  \n",
       "4   0.0    not the a-hole  "
      ]
     },
     "execution_count": 14,
     "metadata": {},
     "output_type": "execute_result"
    }
   ],
   "source": [
    "import pandas as pd\n",
    "\n",
    "# Reading in a comma-separated values file\n",
    "df = pd.read_csv('data/aita_top_submissions.csv')\n",
    "df.head()"
   ]
  },
  {
   "cell_type": "markdown",
   "id": "b999228a-ceb8-4c51-972a-48dbe364ad6a",
   "metadata": {},
   "source": [
    "Next, we will select only the rows in our data where the submission author wrote a long enough post, and assign those to a new variable. We'll then count the number of posts assigned to each \"flair\":"
   ]
  },
  {
   "cell_type": "code",
   "execution_count": 11,
   "id": "c402e179-5fa7-44e8-8d27-54703e6b2bdd",
   "metadata": {},
   "outputs": [
    {
     "data": {
      "text/plain": [
       "flair_text\n",
       "Not the A-hole     0.680170\n",
       "Asshole            0.212369\n",
       "Everyone Sucks     0.042277\n",
       "No A-holes here    0.038482\n",
       "UPDATE             0.012042\n",
       "Name: proportion, dtype: float64"
      ]
     },
     "execution_count": 11,
     "metadata": {},
     "output_type": "execute_result"
    }
   ],
   "source": [
    "# Subsetting a data frame\n",
    "df_posts = df[df['selftext'].str.len() > 20]\n",
    "flair_counts = df_posts.value_counts('flair_text', normalize=True)\n",
    "flair_counts.head(5)"
   ]
  },
  {
   "cell_type": "markdown",
   "id": "d176af9c-b454-4bbe-b08d-8f52999484f3",
   "metadata": {},
   "source": [
    "Finally, we'll plot the top 5 most common flairs in a bar plot, showing the proportion of posts assigned each flair:"
   ]
  },
  {
   "cell_type": "code",
   "execution_count": 12,
   "id": "b9443db0-da34-4824-a25e-430884416ff8",
   "metadata": {},
   "outputs": [
    {
     "name": "stderr",
     "output_type": "stream",
     "text": [
      "Matplotlib is building the font cache; this may take a moment.\n"
     ]
    },
    {
     "data": {
      "image/png": "[encoded data removed]",
      "text/plain": [
       "<Figure size 640x480 with 1 Axes>"
      ]
     },
     "metadata": {},
     "output_type": "display_data"
    }
   ],
   "source": [
    "import matplotlib.pyplot as plt\n",
    "# Create bar plot\n",
    "flair_counts.head(5).plot(kind='bar')\n",
    "# Change xticks\n",
    "plt.xticks(rotation=15, horizontalalignment='right')\n",
    "# Change labels\n",
    "plt.xlabel('Flair Text', fontsize=15)\n",
    "plt.ylabel('Proportion', fontsize=15)\n",
    "plt.show()"
   ]
  },
  {
   "cell_type": "markdown",
   "id": "51b3b226-c10a-4b3e-9a76-f45ab3116beb",
   "metadata": {},
   "source": [
    "<div class=\"alert alert-success\">\n",
    "\n",
    "## ❗ Key Points\n",
    "\n",
    "* Jupyter has markdown and code cells.\n",
    "* `print()` is a function. Functions can be recognized by their trailing parentheses. \n",
    "* Use `variable = value` to assign a value to a variable in order to store it in memory.\n",
    "* Use `print(variable)` to display the value of `variable`.\n",
    "* In the menu bar, go to `Kernel -> Restart Kernel` to restart Python. All your assigned variables will be lost.\n",
    "     \n",
    "</div>"
   ]
  }
 ],
 "metadata": {
  "kernelspec": {
   "display_name": "venv",
   "language": "python",
   "name": "python3"
  },
  "language_info": {
   "codemirror_mode": {
    "name": "ipython",
    "version": 3
   },
   "file_extension": ".py",
   "mimetype": "text/x-python",
   "name": "python",
   "nbconvert_exporter": "python",
   "pygments_lexer": "ipython3",
   "version": "3.13.0"
  },
  "widgets": {
   "application/vnd.jupyter.widget-state+json": {
    "state": {},
    "version_major": 2,
    "version_minor": 0
   }
  }
 },
 "nbformat": 4,
 "nbformat_minor": 5
}
